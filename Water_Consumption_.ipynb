{
  "cells": [
    {
      "cell_type": "markdown",
      "metadata": {
        "id": "BDO81Ne6j8KV"
      },
      "source": [
        "# Import Library"
      ]
    },
    {
      "cell_type": "code",
      "execution_count": 3,
      "metadata": {
        "id": "jPjLrTgXhlhF"
      },
      "outputs": [],
      "source": [
        "import pandas as pd\n",
        "import matplotlib.pyplot as plt\n",
        "import numpy as np\n",
        "import seaborn as sns\n",
        "import warnings\n",
        "warnings.filterwarnings('ignore')\n",
        "from sklearn.preprocessing import LabelEncoder\n",
        "from sklearn.metrics import mean_absolute_error, mean_squared_error, r2_score\n",
        "from sklearn.preprocessing import MinMaxScaler\n",
        "import tensorflow as tf\n",
        "from tensorflow import keras"
      ]
    },
    {
      "cell_type": "markdown",
      "metadata": {
        "id": "DOf0fbi7kIyd"
      },
      "source": [
        "# Load the Dataset"
      ]
    },
    {
      "cell_type": "code",
      "execution_count": 4,
      "metadata": {
        "id": "BEFmSl8lkGbk"
      },
      "outputs": [],
      "source": [
        "df = pd.read_csv('train.csv')\n",
        "test = pd.read_csv('test.csv')"
      ]
    },
    {
      "cell_type": "code",
      "execution_count": 5,
      "metadata": {
        "colab": {
          "base_uri": "https://localhost:8080/",
          "height": 423
        },
        "id": "xJBTrSg5kFMd",
        "outputId": "35df44b0-8a09-47dd-cb12-be01ad9080d7"
      },
      "outputs": [
        {
          "data": {
            "text/html": [
              "<div>\n",
              "<style scoped>\n",
              "    .dataframe tbody tr th:only-of-type {\n",
              "        vertical-align: middle;\n",
              "    }\n",
              "\n",
              "    .dataframe tbody tr th {\n",
              "        vertical-align: top;\n",
              "    }\n",
              "\n",
              "    .dataframe thead th {\n",
              "        text-align: right;\n",
              "    }\n",
              "</style>\n",
              "<table border=\"1\" class=\"dataframe\">\n",
              "  <thead>\n",
              "    <tr style=\"text-align: right;\">\n",
              "      <th></th>\n",
              "      <th>Timestamp</th>\n",
              "      <th>Residents</th>\n",
              "      <th>Apartment_Type</th>\n",
              "      <th>Temperature</th>\n",
              "      <th>Humidity</th>\n",
              "      <th>Water_Price</th>\n",
              "      <th>Period_Consumption_Index</th>\n",
              "      <th>Income_Level</th>\n",
              "      <th>Guests</th>\n",
              "      <th>Amenities</th>\n",
              "      <th>Appliance_Usage</th>\n",
              "      <th>Water_Consumption</th>\n",
              "    </tr>\n",
              "  </thead>\n",
              "  <tbody>\n",
              "    <tr>\n",
              "      <th>0</th>\n",
              "      <td>01/01/2002 00</td>\n",
              "      <td>1</td>\n",
              "      <td>Studio</td>\n",
              "      <td>15.31</td>\n",
              "      <td>46.61</td>\n",
              "      <td>1.06</td>\n",
              "      <td>0.970000</td>\n",
              "      <td>Low</td>\n",
              "      <td>0</td>\n",
              "      <td>Swimming Pool</td>\n",
              "      <td>0.0</td>\n",
              "      <td>64.85</td>\n",
              "    </tr>\n",
              "    <tr>\n",
              "      <th>1</th>\n",
              "      <td>01/01/2002 08</td>\n",
              "      <td>4</td>\n",
              "      <td>NaN</td>\n",
              "      <td>21.01</td>\n",
              "      <td>66.11</td>\n",
              "      <td>2.98</td>\n",
              "      <td>0.910000</td>\n",
              "      <td>Upper Middle</td>\n",
              "      <td>1</td>\n",
              "      <td>Swimming Pool</td>\n",
              "      <td>1.0</td>\n",
              "      <td>192.50</td>\n",
              "    </tr>\n",
              "    <tr>\n",
              "      <th>2</th>\n",
              "      <td>01/01/2002 16</td>\n",
              "      <td>2</td>\n",
              "      <td>Cottage</td>\n",
              "      <td>12.86</td>\n",
              "      <td>60.86</td>\n",
              "      <td>1.44</td>\n",
              "      <td>1.430000</td>\n",
              "      <td>Middle</td>\n",
              "      <td>0</td>\n",
              "      <td>NaN</td>\n",
              "      <td>1.0</td>\n",
              "      <td>116.62</td>\n",
              "    </tr>\n",
              "    <tr>\n",
              "      <th>3</th>\n",
              "      <td>02/01/2002 00</td>\n",
              "      <td>2</td>\n",
              "      <td>1BHK</td>\n",
              "      <td>20.16</td>\n",
              "      <td>50.58</td>\n",
              "      <td>1.48</td>\n",
              "      <td>0.910000</td>\n",
              "      <td>Middle</td>\n",
              "      <td>-1</td>\n",
              "      <td>Garden</td>\n",
              "      <td>0.0</td>\n",
              "      <td>76.96</td>\n",
              "    </tr>\n",
              "    <tr>\n",
              "      <th>4</th>\n",
              "      <td>02/01/2002 08</td>\n",
              "      <td>2</td>\n",
              "      <td>Cottage</td>\n",
              "      <td>16.23</td>\n",
              "      <td>52.25</td>\n",
              "      <td>1.14</td>\n",
              "      <td>1.110000</td>\n",
              "      <td>Middle</td>\n",
              "      <td>0</td>\n",
              "      <td>Fountain</td>\n",
              "      <td>0.0</td>\n",
              "      <td>104.70</td>\n",
              "    </tr>\n",
              "    <tr>\n",
              "      <th>...</th>\n",
              "      <td>...</td>\n",
              "      <td>...</td>\n",
              "      <td>...</td>\n",
              "      <td>...</td>\n",
              "      <td>...</td>\n",
              "      <td>...</td>\n",
              "      <td>...</td>\n",
              "      <td>...</td>\n",
              "      <td>...</td>\n",
              "      <td>...</td>\n",
              "      <td>...</td>\n",
              "      <td>...</td>\n",
              "    </tr>\n",
              "    <tr>\n",
              "      <th>13995</th>\n",
              "      <td>10/10/2014 00</td>\n",
              "      <td>2</td>\n",
              "      <td>1BHK</td>\n",
              "      <td>25.61</td>\n",
              "      <td>61.5</td>\n",
              "      <td>1.70</td>\n",
              "      <td>0.940000</td>\n",
              "      <td>Low</td>\n",
              "      <td>0</td>\n",
              "      <td>NaN</td>\n",
              "      <td>0.0</td>\n",
              "      <td>78.59</td>\n",
              "    </tr>\n",
              "    <tr>\n",
              "      <th>13996</th>\n",
              "      <td>10/10/2014 08</td>\n",
              "      <td>5</td>\n",
              "      <td>2BHK</td>\n",
              "      <td>13.27</td>\n",
              "      <td>52.58</td>\n",
              "      <td>1.88</td>\n",
              "      <td>1.030000</td>\n",
              "      <td>Upper Middle</td>\n",
              "      <td>0</td>\n",
              "      <td>Garden</td>\n",
              "      <td>1.0</td>\n",
              "      <td>185.50</td>\n",
              "    </tr>\n",
              "    <tr>\n",
              "      <th>13997</th>\n",
              "      <td>10/10/2014 16</td>\n",
              "      <td>4</td>\n",
              "      <td>2BHK</td>\n",
              "      <td>NaN</td>\n",
              "      <td>46.93</td>\n",
              "      <td>1.22</td>\n",
              "      <td>1.100000</td>\n",
              "      <td>Middle</td>\n",
              "      <td>0</td>\n",
              "      <td>NaN</td>\n",
              "      <td>1.0</td>\n",
              "      <td>180.28</td>\n",
              "    </tr>\n",
              "    <tr>\n",
              "      <th>13998</th>\n",
              "      <td>11/10/2014 00</td>\n",
              "      <td>4</td>\n",
              "      <td>3BHK</td>\n",
              "      <td>11.62</td>\n",
              "      <td>64.48</td>\n",
              "      <td>2.86</td>\n",
              "      <td>1.120000</td>\n",
              "      <td>Upper Middle</td>\n",
              "      <td>1</td>\n",
              "      <td>Swimming Pool</td>\n",
              "      <td>0.0</td>\n",
              "      <td>212.19</td>\n",
              "    </tr>\n",
              "    <tr>\n",
              "      <th>13999</th>\n",
              "      <td>11/10/2014 08</td>\n",
              "      <td>4</td>\n",
              "      <td>2BHK</td>\n",
              "      <td>23.78</td>\n",
              "      <td>44.88</td>\n",
              "      <td>1.26</td>\n",
              "      <td>2.133695</td>\n",
              "      <td>c&amp;8%1</td>\n",
              "      <td>1</td>\n",
              "      <td>Jacuzzi</td>\n",
              "      <td>0.0</td>\n",
              "      <td>303.59</td>\n",
              "    </tr>\n",
              "  </tbody>\n",
              "</table>\n",
              "<p>14000 rows × 12 columns</p>\n",
              "</div>"
            ],
            "text/plain": [
              "           Timestamp  Residents Apartment_Type  Temperature Humidity  \\\n",
              "0      01/01/2002 00          1         Studio        15.31    46.61   \n",
              "1      01/01/2002 08          4            NaN        21.01    66.11   \n",
              "2      01/01/2002 16          2        Cottage        12.86    60.86   \n",
              "3      02/01/2002 00          2           1BHK        20.16    50.58   \n",
              "4      02/01/2002 08          2        Cottage        16.23    52.25   \n",
              "...              ...        ...            ...          ...      ...   \n",
              "13995  10/10/2014 00          2           1BHK        25.61     61.5   \n",
              "13996  10/10/2014 08          5           2BHK        13.27    52.58   \n",
              "13997  10/10/2014 16          4           2BHK          NaN    46.93   \n",
              "13998  11/10/2014 00          4           3BHK        11.62    64.48   \n",
              "13999  11/10/2014 08          4           2BHK        23.78    44.88   \n",
              "\n",
              "       Water_Price  Period_Consumption_Index  Income_Level  Guests  \\\n",
              "0             1.06                  0.970000           Low       0   \n",
              "1             2.98                  0.910000  Upper Middle       1   \n",
              "2             1.44                  1.430000        Middle       0   \n",
              "3             1.48                  0.910000        Middle      -1   \n",
              "4             1.14                  1.110000        Middle       0   \n",
              "...            ...                       ...           ...     ...   \n",
              "13995         1.70                  0.940000           Low       0   \n",
              "13996         1.88                  1.030000  Upper Middle       0   \n",
              "13997         1.22                  1.100000        Middle       0   \n",
              "13998         2.86                  1.120000  Upper Middle       1   \n",
              "13999         1.26                  2.133695         c&8%1       1   \n",
              "\n",
              "           Amenities  Appliance_Usage  Water_Consumption  \n",
              "0      Swimming Pool              0.0              64.85  \n",
              "1      Swimming Pool              1.0             192.50  \n",
              "2                NaN              1.0             116.62  \n",
              "3             Garden              0.0              76.96  \n",
              "4           Fountain              0.0             104.70  \n",
              "...              ...              ...                ...  \n",
              "13995            NaN              0.0              78.59  \n",
              "13996         Garden              1.0             185.50  \n",
              "13997            NaN              1.0             180.28  \n",
              "13998  Swimming Pool              0.0             212.19  \n",
              "13999        Jacuzzi              0.0             303.59  \n",
              "\n",
              "[14000 rows x 12 columns]"
            ]
          },
          "execution_count": 5,
          "metadata": {},
          "output_type": "execute_result"
        }
      ],
      "source": [
        "df"
      ]
    },
    {
      "cell_type": "code",
      "execution_count": 6,
      "metadata": {
        "colab": {
          "base_uri": "https://localhost:8080/",
          "height": 206
        },
        "id": "zvnLky-1kWKj",
        "outputId": "10a53bf8-789b-4243-c863-f33d181971bd"
      },
      "outputs": [
        {
          "data": {
            "text/html": [
              "<div>\n",
              "<style scoped>\n",
              "    .dataframe tbody tr th:only-of-type {\n",
              "        vertical-align: middle;\n",
              "    }\n",
              "\n",
              "    .dataframe tbody tr th {\n",
              "        vertical-align: top;\n",
              "    }\n",
              "\n",
              "    .dataframe thead th {\n",
              "        text-align: right;\n",
              "    }\n",
              "</style>\n",
              "<table border=\"1\" class=\"dataframe\">\n",
              "  <thead>\n",
              "    <tr style=\"text-align: right;\">\n",
              "      <th></th>\n",
              "      <th>Timestamp</th>\n",
              "      <th>Residents</th>\n",
              "      <th>Apartment_Type</th>\n",
              "      <th>Temperature</th>\n",
              "      <th>Humidity</th>\n",
              "      <th>Water_Price</th>\n",
              "      <th>Period_Consumption_Index</th>\n",
              "      <th>Income_Level</th>\n",
              "      <th>Guests</th>\n",
              "      <th>Amenities</th>\n",
              "      <th>Appliance_Usage</th>\n",
              "    </tr>\n",
              "  </thead>\n",
              "  <tbody>\n",
              "    <tr>\n",
              "      <th>0</th>\n",
              "      <td>11/10/2014 16</td>\n",
              "      <td>5</td>\n",
              "      <td>Bungalow</td>\n",
              "      <td>11.89</td>\n",
              "      <td>57.88</td>\n",
              "      <td>2.77</td>\n",
              "      <td>1.48</td>\n",
              "      <td>Upper Middle</td>\n",
              "      <td>1</td>\n",
              "      <td>Jacuzzi</td>\n",
              "      <td>0.0</td>\n",
              "    </tr>\n",
              "    <tr>\n",
              "      <th>1</th>\n",
              "      <td>12/10/2014 00</td>\n",
              "      <td>4</td>\n",
              "      <td>Bungalow</td>\n",
              "      <td>29.22</td>\n",
              "      <td>61.41</td>\n",
              "      <td>2.85</td>\n",
              "      <td>1.30</td>\n",
              "      <td>Upper Middle</td>\n",
              "      <td>0</td>\n",
              "      <td>Garden</td>\n",
              "      <td>NaN</td>\n",
              "    </tr>\n",
              "    <tr>\n",
              "      <th>2</th>\n",
              "      <td>12/10/2014 08</td>\n",
              "      <td>3</td>\n",
              "      <td>Cottage</td>\n",
              "      <td>10.27</td>\n",
              "      <td>64.9</td>\n",
              "      <td>1.66</td>\n",
              "      <td>0.97</td>\n",
              "      <td>Middle</td>\n",
              "      <td>0</td>\n",
              "      <td>NaN</td>\n",
              "      <td>0.0</td>\n",
              "    </tr>\n",
              "    <tr>\n",
              "      <th>3</th>\n",
              "      <td>12/10/2014 16</td>\n",
              "      <td>3</td>\n",
              "      <td>1BHK</td>\n",
              "      <td>27.03</td>\n",
              "      <td>52.67</td>\n",
              "      <td>1.48</td>\n",
              "      <td>1.31</td>\n",
              "      <td>Low</td>\n",
              "      <td>0</td>\n",
              "      <td>NaN</td>\n",
              "      <td>0.0</td>\n",
              "    </tr>\n",
              "    <tr>\n",
              "      <th>4</th>\n",
              "      <td>13/10/2014 00</td>\n",
              "      <td>2</td>\n",
              "      <td>Cottage</td>\n",
              "      <td>12.32</td>\n",
              "      <td>55.23</td>\n",
              "      <td>1.19</td>\n",
              "      <td>1.30</td>\n",
              "      <td>Middle</td>\n",
              "      <td>0</td>\n",
              "      <td>Swimming Pool</td>\n",
              "      <td>0.0</td>\n",
              "    </tr>\n",
              "  </tbody>\n",
              "</table>\n",
              "</div>"
            ],
            "text/plain": [
              "       Timestamp  Residents Apartment_Type  Temperature Humidity  Water_Price  \\\n",
              "0  11/10/2014 16          5       Bungalow        11.89    57.88         2.77   \n",
              "1  12/10/2014 00          4       Bungalow        29.22    61.41         2.85   \n",
              "2  12/10/2014 08          3        Cottage        10.27     64.9         1.66   \n",
              "3  12/10/2014 16          3           1BHK        27.03    52.67         1.48   \n",
              "4  13/10/2014 00          2        Cottage        12.32    55.23         1.19   \n",
              "\n",
              "   Period_Consumption_Index  Income_Level  Guests      Amenities  \\\n",
              "0                      1.48  Upper Middle       1        Jacuzzi   \n",
              "1                      1.30  Upper Middle       0         Garden   \n",
              "2                      0.97        Middle       0            NaN   \n",
              "3                      1.31           Low       0            NaN   \n",
              "4                      1.30        Middle       0  Swimming Pool   \n",
              "\n",
              "   Appliance_Usage  \n",
              "0              0.0  \n",
              "1              NaN  \n",
              "2              0.0  \n",
              "3              0.0  \n",
              "4              0.0  "
            ]
          },
          "execution_count": 6,
          "metadata": {},
          "output_type": "execute_result"
        }
      ],
      "source": [
        "test.head()"
      ]
    },
    {
      "cell_type": "markdown",
      "metadata": {
        "id": "8mYJsZwDlHHJ"
      },
      "source": [
        "# Exploratory Data Analysis"
      ]
    },
    {
      "cell_type": "code",
      "execution_count": 7,
      "metadata": {
        "id": "L3J-wdHskYA8"
      },
      "outputs": [],
      "source": [
        "df.drop(columns = 'Timestamp',axis = 0,inplace = True)"
      ]
    },
    {
      "cell_type": "code",
      "execution_count": 8,
      "metadata": {
        "colab": {
          "base_uri": "https://localhost:8080/",
          "height": 206
        },
        "id": "OA9KxCdnlPHW",
        "outputId": "98561ebc-cb2f-400f-b701-f7d7d3683e14"
      },
      "outputs": [
        {
          "data": {
            "text/html": [
              "<div>\n",
              "<style scoped>\n",
              "    .dataframe tbody tr th:only-of-type {\n",
              "        vertical-align: middle;\n",
              "    }\n",
              "\n",
              "    .dataframe tbody tr th {\n",
              "        vertical-align: top;\n",
              "    }\n",
              "\n",
              "    .dataframe thead th {\n",
              "        text-align: right;\n",
              "    }\n",
              "</style>\n",
              "<table border=\"1\" class=\"dataframe\">\n",
              "  <thead>\n",
              "    <tr style=\"text-align: right;\">\n",
              "      <th></th>\n",
              "      <th>Residents</th>\n",
              "      <th>Apartment_Type</th>\n",
              "      <th>Temperature</th>\n",
              "      <th>Humidity</th>\n",
              "      <th>Water_Price</th>\n",
              "      <th>Period_Consumption_Index</th>\n",
              "      <th>Income_Level</th>\n",
              "      <th>Guests</th>\n",
              "      <th>Amenities</th>\n",
              "      <th>Appliance_Usage</th>\n",
              "      <th>Water_Consumption</th>\n",
              "    </tr>\n",
              "  </thead>\n",
              "  <tbody>\n",
              "    <tr>\n",
              "      <th>0</th>\n",
              "      <td>1</td>\n",
              "      <td>Studio</td>\n",
              "      <td>15.31</td>\n",
              "      <td>46.61</td>\n",
              "      <td>1.06</td>\n",
              "      <td>0.97</td>\n",
              "      <td>Low</td>\n",
              "      <td>0</td>\n",
              "      <td>Swimming Pool</td>\n",
              "      <td>0.0</td>\n",
              "      <td>64.85</td>\n",
              "    </tr>\n",
              "    <tr>\n",
              "      <th>1</th>\n",
              "      <td>4</td>\n",
              "      <td>NaN</td>\n",
              "      <td>21.01</td>\n",
              "      <td>66.11</td>\n",
              "      <td>2.98</td>\n",
              "      <td>0.91</td>\n",
              "      <td>Upper Middle</td>\n",
              "      <td>1</td>\n",
              "      <td>Swimming Pool</td>\n",
              "      <td>1.0</td>\n",
              "      <td>192.50</td>\n",
              "    </tr>\n",
              "    <tr>\n",
              "      <th>2</th>\n",
              "      <td>2</td>\n",
              "      <td>Cottage</td>\n",
              "      <td>12.86</td>\n",
              "      <td>60.86</td>\n",
              "      <td>1.44</td>\n",
              "      <td>1.43</td>\n",
              "      <td>Middle</td>\n",
              "      <td>0</td>\n",
              "      <td>NaN</td>\n",
              "      <td>1.0</td>\n",
              "      <td>116.62</td>\n",
              "    </tr>\n",
              "    <tr>\n",
              "      <th>3</th>\n",
              "      <td>2</td>\n",
              "      <td>1BHK</td>\n",
              "      <td>20.16</td>\n",
              "      <td>50.58</td>\n",
              "      <td>1.48</td>\n",
              "      <td>0.91</td>\n",
              "      <td>Middle</td>\n",
              "      <td>-1</td>\n",
              "      <td>Garden</td>\n",
              "      <td>0.0</td>\n",
              "      <td>76.96</td>\n",
              "    </tr>\n",
              "    <tr>\n",
              "      <th>4</th>\n",
              "      <td>2</td>\n",
              "      <td>Cottage</td>\n",
              "      <td>16.23</td>\n",
              "      <td>52.25</td>\n",
              "      <td>1.14</td>\n",
              "      <td>1.11</td>\n",
              "      <td>Middle</td>\n",
              "      <td>0</td>\n",
              "      <td>Fountain</td>\n",
              "      <td>0.0</td>\n",
              "      <td>104.70</td>\n",
              "    </tr>\n",
              "  </tbody>\n",
              "</table>\n",
              "</div>"
            ],
            "text/plain": [
              "   Residents Apartment_Type  Temperature Humidity  Water_Price  \\\n",
              "0          1         Studio        15.31    46.61         1.06   \n",
              "1          4            NaN        21.01    66.11         2.98   \n",
              "2          2        Cottage        12.86    60.86         1.44   \n",
              "3          2           1BHK        20.16    50.58         1.48   \n",
              "4          2        Cottage        16.23    52.25         1.14   \n",
              "\n",
              "   Period_Consumption_Index  Income_Level  Guests      Amenities  \\\n",
              "0                      0.97           Low       0  Swimming Pool   \n",
              "1                      0.91  Upper Middle       1  Swimming Pool   \n",
              "2                      1.43        Middle       0            NaN   \n",
              "3                      0.91        Middle      -1         Garden   \n",
              "4                      1.11        Middle       0       Fountain   \n",
              "\n",
              "   Appliance_Usage  Water_Consumption  \n",
              "0              0.0              64.85  \n",
              "1              1.0             192.50  \n",
              "2              1.0             116.62  \n",
              "3              0.0              76.96  \n",
              "4              0.0             104.70  "
            ]
          },
          "execution_count": 8,
          "metadata": {},
          "output_type": "execute_result"
        }
      ],
      "source": [
        "df.head()"
      ]
    },
    {
      "cell_type": "code",
      "execution_count": 9,
      "metadata": {
        "id": "N5z2JuOCl1lp"
      },
      "outputs": [],
      "source": [
        "df.loc[df['Residents'] < 0, 'Residents'] = np.nan\n",
        "test.loc[test['Residents'] < 0, 'Residents'] = np.nan"
      ]
    },
    {
      "cell_type": "code",
      "execution_count": 10,
      "metadata": {
        "id": "jAjh94oqmSEb"
      },
      "outputs": [],
      "source": [
        "df['Residents'].fillna(df['Residents'].mode()[0], inplace=True)\n",
        "test['Residents'].fillna(test['Residents'].mode()[0], inplace=True)"
      ]
    },
    {
      "cell_type": "markdown",
      "metadata": {
        "id": "wBbPlG3wFrv-"
      },
      "source": [
        "# Correct The Entry"
      ]
    },
    {
      "cell_type": "markdown",
      "metadata": {
        "id": "B1zG0RznF3E0"
      },
      "source": [
        "### Humidity"
      ]
    },
    {
      "cell_type": "code",
      "execution_count": 11,
      "metadata": {
        "id": "03CBE44Noisw"
      },
      "outputs": [],
      "source": [
        "#  Step 1: Convert non-numeric values to NaN\n",
        "df['Humidity'] = pd.to_numeric(df['Humidity'], errors='coerce')\n",
        "\n",
        "# Step 2: Handle missing (NaN) values\n",
        "df['Humidity'].fillna(df['Humidity'].mean(), inplace=True)\n",
        "\n",
        "df.loc[df['Humidity'] < 0, 'Humidity'] = 0\n",
        "df.loc[df['Humidity'] > 100, 'Humidity'] = 100"
      ]
    },
    {
      "cell_type": "code",
      "execution_count": 12,
      "metadata": {
        "id": "LDLLK8IMEqdu"
      },
      "outputs": [],
      "source": [
        "#  Step 1: Convert non-numeric values to NaN\n",
        "test['Humidity'] = pd.to_numeric(test['Humidity'], errors='coerce')\n",
        "\n",
        "# Step 2: Handle missing (NaN) values\n",
        "test['Humidity'].fillna(test['Humidity'].mean(), inplace=True)\n",
        "\n",
        "test.loc[test['Humidity'] < 0, 'Humidity'] = 0\n",
        "test.loc[test['Humidity'] > 100, 'Humidity'] = 100"
      ]
    },
    {
      "cell_type": "markdown",
      "metadata": {
        "id": "0I166rntF98y"
      },
      "source": [
        "### Period_Consumption_Index"
      ]
    },
    {
      "cell_type": "code",
      "execution_count": 13,
      "metadata": {
        "id": "WGfnIl02t1Fc"
      },
      "outputs": [],
      "source": [
        "df.loc[df['Period_Consumption_Index'] < 0, 'Period_Consumption_Index'] = 0\n",
        "test.loc[test['Period_Consumption_Index'] < 0, 'Period_Consumption_Index'] = 0"
      ]
    },
    {
      "cell_type": "markdown",
      "metadata": {
        "id": "HqHPEaUEGENt"
      },
      "source": [
        "### Guests"
      ]
    },
    {
      "cell_type": "code",
      "execution_count": 14,
      "metadata": {
        "id": "GE8wkNt4tw7j"
      },
      "outputs": [],
      "source": [
        "df.loc[df['Guests'] < 0, 'Guests'] = 0\n",
        "test.loc[test['Guests'] < 0, 'Guests'] = 0"
      ]
    },
    {
      "cell_type": "markdown",
      "metadata": {
        "id": "ydtyYPB0GGMu"
      },
      "source": [
        "### Water_Price"
      ]
    },
    {
      "cell_type": "code",
      "execution_count": 15,
      "metadata": {
        "id": "r1HV002AuFoI"
      },
      "outputs": [],
      "source": [
        "df.loc[df['Water_Price'] < 0, 'Water_Price'] = 0\n",
        "df.loc[df['Water_Price'] == 0, 'Water_Price'] = df['Water_Price'].mean()\n",
        "\n",
        "test.loc[test['Water_Price'] < 0, 'Water_Price'] = 0\n",
        "test.loc[test['Water_Price'] == 0, 'Water_Price'] = test['Water_Price'].mean()"
      ]
    },
    {
      "cell_type": "markdown",
      "metadata": {
        "id": "sK0rOSjTGLf-"
      },
      "source": [
        "### Income_Level"
      ]
    },
    {
      "cell_type": "code",
      "execution_count": 16,
      "metadata": {
        "id": "13f5JvrLsRKJ"
      },
      "outputs": [],
      "source": [
        "valid_categories = [\"Low\", \"Middle\", \"Upper Middle\", \"Rich\"]\n",
        "\n",
        "# Step 2: Convert invalid values to NaN\n",
        "df.loc[~df['Income_Level'].isin(valid_categories), 'Income_Level'] = None  # Set invalid values to NaN\n",
        "\n",
        "# Step 3: Fill missing values with the mode (most frequent category)\n",
        "df['Income_Level'].fillna(df['Income_Level'].mode()[0], inplace=True)"
      ]
    },
    {
      "cell_type": "code",
      "execution_count": 17,
      "metadata": {
        "id": "HO7f0gjgFiTj"
      },
      "outputs": [],
      "source": [
        "valid_categories = [\"Low\", \"Middle\", \"Upper Middle\", \"Rich\"]\n",
        "\n",
        "# Step 2: Convert invalid values to NaN\n",
        "test.loc[~test['Income_Level'].isin(valid_categories), 'Income_Level'] = None  # Set invalid values to NaN\n",
        "\n",
        "# Step 3: Fill missing values with the mode (most frequent category)\n",
        "test['Income_Level'].fillna(test['Income_Level'].mode()[0], inplace=True)"
      ]
    },
    {
      "cell_type": "markdown",
      "metadata": {
        "id": "Ub9Vjf9tGTj7"
      },
      "source": [
        "# NULL Value"
      ]
    },
    {
      "cell_type": "code",
      "execution_count": 18,
      "metadata": {
        "colab": {
          "base_uri": "https://localhost:8080/",
          "height": 429
        },
        "id": "_QzbrCTwGYAD",
        "outputId": "cde14ddf-de30-4efb-8ed3-233fedb8be15"
      },
      "outputs": [
        {
          "data": {
            "text/plain": [
              "Residents                      0\n",
              "Apartment_Type               426\n",
              "Temperature                  441\n",
              "Humidity                       0\n",
              "Water_Price                    0\n",
              "Period_Consumption_Index       0\n",
              "Income_Level                   0\n",
              "Guests                         0\n",
              "Amenities                   5997\n",
              "Appliance_Usage              415\n",
              "Water_Consumption              0\n",
              "dtype: int64"
            ]
          },
          "execution_count": 18,
          "metadata": {},
          "output_type": "execute_result"
        }
      ],
      "source": [
        "df.isnull().sum()"
      ]
    },
    {
      "cell_type": "code",
      "execution_count": 19,
      "metadata": {
        "id": "q9guUY5fmYCb"
      },
      "outputs": [],
      "source": [
        "df['Apartment_Type'].fillna(df['Apartment_Type'].mode()[0], inplace=True)  # Mode for categorical data\n",
        "df['Income_Level'].fillna(df['Income_Level'].mode()[0], inplace=True)      # Mode for categorical data\n",
        "df['Temperature'].fillna(df['Temperature'].mean(), inplace=True)           # Mean for numerical data\n",
        "df['Appliance_Usage'].fillna(df['Appliance_Usage'].mean(), inplace=True)   # Mean for numerical data\n",
        "df['Amenities'].fillna(\"None\", inplace=True)"
      ]
    },
    {
      "cell_type": "code",
      "execution_count": 20,
      "metadata": {
        "colab": {
          "base_uri": "https://localhost:8080/",
          "height": 429
        },
        "id": "D0r1WAePGdpa",
        "outputId": "e89b91b1-2998-4ac4-f39c-0303152c2172"
      },
      "outputs": [
        {
          "data": {
            "text/plain": [
              "Timestamp                      0\n",
              "Residents                      0\n",
              "Apartment_Type               166\n",
              "Temperature                  150\n",
              "Humidity                       0\n",
              "Water_Price                    0\n",
              "Period_Consumption_Index       0\n",
              "Income_Level                   0\n",
              "Guests                         0\n",
              "Amenities                   2513\n",
              "Appliance_Usage              177\n",
              "dtype: int64"
            ]
          },
          "execution_count": 20,
          "metadata": {},
          "output_type": "execute_result"
        }
      ],
      "source": [
        "test.isnull().sum()"
      ]
    },
    {
      "cell_type": "code",
      "execution_count": 21,
      "metadata": {
        "id": "dgwCiKuynhDS"
      },
      "outputs": [],
      "source": [
        "test['Apartment_Type'].fillna(test['Apartment_Type'].mode()[0], inplace=True)  # Mode for categorical data\n",
        "test['Temperature'].fillna(test['Temperature'].mean(), inplace=True)           # Mean for numerical data\n",
        "test['Appliance_Usage'].fillna(test['Appliance_Usage'].mean(), inplace=True)   # Mean for numerical data\n",
        "test['Amenities'].fillna(\"None\", inplace=True)"
      ]
    },
    {
      "cell_type": "markdown",
      "metadata": {
        "id": "oIRY-YI1oHbt"
      },
      "source": [
        "# Data Analysis"
      ]
    },
    {
      "cell_type": "code",
      "execution_count": 22,
      "metadata": {
        "colab": {
          "base_uri": "https://localhost:8080/",
          "height": 206
        },
        "id": "9SZ5LtdioRt-",
        "outputId": "de85d167-45fb-47a3-fbb3-5e253d0424b1"
      },
      "outputs": [
        {
          "data": {
            "text/html": [
              "<div>\n",
              "<style scoped>\n",
              "    .dataframe tbody tr th:only-of-type {\n",
              "        vertical-align: middle;\n",
              "    }\n",
              "\n",
              "    .dataframe tbody tr th {\n",
              "        vertical-align: top;\n",
              "    }\n",
              "\n",
              "    .dataframe thead th {\n",
              "        text-align: right;\n",
              "    }\n",
              "</style>\n",
              "<table border=\"1\" class=\"dataframe\">\n",
              "  <thead>\n",
              "    <tr style=\"text-align: right;\">\n",
              "      <th></th>\n",
              "      <th>Residents</th>\n",
              "      <th>Apartment_Type</th>\n",
              "      <th>Temperature</th>\n",
              "      <th>Humidity</th>\n",
              "      <th>Water_Price</th>\n",
              "      <th>Period_Consumption_Index</th>\n",
              "      <th>Income_Level</th>\n",
              "      <th>Guests</th>\n",
              "      <th>Amenities</th>\n",
              "      <th>Appliance_Usage</th>\n",
              "      <th>Water_Consumption</th>\n",
              "    </tr>\n",
              "  </thead>\n",
              "  <tbody>\n",
              "    <tr>\n",
              "      <th>0</th>\n",
              "      <td>1.0</td>\n",
              "      <td>Studio</td>\n",
              "      <td>15.31</td>\n",
              "      <td>46.61</td>\n",
              "      <td>1.06</td>\n",
              "      <td>0.97</td>\n",
              "      <td>Low</td>\n",
              "      <td>0</td>\n",
              "      <td>Swimming Pool</td>\n",
              "      <td>0.0</td>\n",
              "      <td>64.85</td>\n",
              "    </tr>\n",
              "    <tr>\n",
              "      <th>1</th>\n",
              "      <td>4.0</td>\n",
              "      <td>2BHK</td>\n",
              "      <td>21.01</td>\n",
              "      <td>66.11</td>\n",
              "      <td>2.98</td>\n",
              "      <td>0.91</td>\n",
              "      <td>Upper Middle</td>\n",
              "      <td>1</td>\n",
              "      <td>Swimming Pool</td>\n",
              "      <td>1.0</td>\n",
              "      <td>192.50</td>\n",
              "    </tr>\n",
              "    <tr>\n",
              "      <th>2</th>\n",
              "      <td>2.0</td>\n",
              "      <td>Cottage</td>\n",
              "      <td>12.86</td>\n",
              "      <td>60.86</td>\n",
              "      <td>1.44</td>\n",
              "      <td>1.43</td>\n",
              "      <td>Middle</td>\n",
              "      <td>0</td>\n",
              "      <td>None</td>\n",
              "      <td>1.0</td>\n",
              "      <td>116.62</td>\n",
              "    </tr>\n",
              "    <tr>\n",
              "      <th>3</th>\n",
              "      <td>2.0</td>\n",
              "      <td>1BHK</td>\n",
              "      <td>20.16</td>\n",
              "      <td>50.58</td>\n",
              "      <td>1.48</td>\n",
              "      <td>0.91</td>\n",
              "      <td>Middle</td>\n",
              "      <td>0</td>\n",
              "      <td>Garden</td>\n",
              "      <td>0.0</td>\n",
              "      <td>76.96</td>\n",
              "    </tr>\n",
              "    <tr>\n",
              "      <th>4</th>\n",
              "      <td>2.0</td>\n",
              "      <td>Cottage</td>\n",
              "      <td>16.23</td>\n",
              "      <td>52.25</td>\n",
              "      <td>1.14</td>\n",
              "      <td>1.11</td>\n",
              "      <td>Middle</td>\n",
              "      <td>0</td>\n",
              "      <td>Fountain</td>\n",
              "      <td>0.0</td>\n",
              "      <td>104.70</td>\n",
              "    </tr>\n",
              "  </tbody>\n",
              "</table>\n",
              "</div>"
            ],
            "text/plain": [
              "   Residents Apartment_Type  Temperature  Humidity  Water_Price  \\\n",
              "0        1.0         Studio        15.31     46.61         1.06   \n",
              "1        4.0           2BHK        21.01     66.11         2.98   \n",
              "2        2.0        Cottage        12.86     60.86         1.44   \n",
              "3        2.0           1BHK        20.16     50.58         1.48   \n",
              "4        2.0        Cottage        16.23     52.25         1.14   \n",
              "\n",
              "   Period_Consumption_Index  Income_Level  Guests      Amenities  \\\n",
              "0                      0.97           Low       0  Swimming Pool   \n",
              "1                      0.91  Upper Middle       1  Swimming Pool   \n",
              "2                      1.43        Middle       0           None   \n",
              "3                      0.91        Middle       0         Garden   \n",
              "4                      1.11        Middle       0       Fountain   \n",
              "\n",
              "   Appliance_Usage  Water_Consumption  \n",
              "0              0.0              64.85  \n",
              "1              1.0             192.50  \n",
              "2              1.0             116.62  \n",
              "3              0.0              76.96  \n",
              "4              0.0             104.70  "
            ]
          },
          "execution_count": 22,
          "metadata": {},
          "output_type": "execute_result"
        }
      ],
      "source": [
        "df.head()"
      ]
    },
    {
      "cell_type": "code",
      "execution_count": 23,
      "metadata": {
        "colab": {
          "base_uri": "https://localhost:8080/",
          "height": 475
        },
        "id": "6lx806HXoGvE",
        "outputId": "44fa3218-d9ee-42fe-b8c4-378688892060"
      },
      "outputs": [
        {
          "data": {
            "text/plain": [
              "<Axes: xlabel='Residents'>"
            ]
          },
          "execution_count": 23,
          "metadata": {},
          "output_type": "execute_result"
        },
        {
          "data": {
            "image/png": "[encoded data removed]",
            "text/plain": [
              "<Figure size 640x480 with 1 Axes>"
            ]
          },
          "metadata": {},
          "output_type": "display_data"
        }
      ],
      "source": [
        "df.groupby('Residents')['Water_Consumption'].max().plot(kind = 'bar')"
      ]
    },
    {
      "cell_type": "code",
      "execution_count": 24,
      "metadata": {
        "colab": {
          "base_uri": "https://localhost:8080/",
          "height": 522
        },
        "id": "QFW2o10bnhf-",
        "outputId": "a73f1f45-95ca-4b31-da3b-a497b8fd0588"
      },
      "outputs": [
        {
          "data": {
            "text/plain": [
              "<Axes: xlabel='Apartment_Type'>"
            ]
          },
          "execution_count": 24,
          "metadata": {},
          "output_type": "execute_result"
        },
        {
          "data": {
            "image/png": "[encoded data removed]",
            "text/plain": [
              "<Figure size 640x480 with 1 Axes>"
            ]
          },
          "metadata": {},
          "output_type": "display_data"
        }
      ],
      "source": [
        "df.groupby('Apartment_Type')['Water_Consumption'].max().plot(kind = 'bar')"
      ]
    },
    {
      "cell_type": "code",
      "execution_count": 25,
      "metadata": {
        "colab": {
          "base_uri": "https://localhost:8080/"
        },
        "id": "Qe9Sqk4KG5Cx",
        "outputId": "2995ba09-2201-4ab8-d972-2ed66b6143e8"
      },
      "outputs": [
        {
          "name": "stdout",
          "output_type": "stream",
          "text": [
            "<class 'pandas.core.frame.DataFrame'>\n",
            "RangeIndex: 14000 entries, 0 to 13999\n",
            "Data columns (total 11 columns):\n",
            " #   Column                    Non-Null Count  Dtype  \n",
            "---  ------                    --------------  -----  \n",
            " 0   Residents                 14000 non-null  float64\n",
            " 1   Apartment_Type            14000 non-null  object \n",
            " 2   Temperature               14000 non-null  float64\n",
            " 3   Humidity                  14000 non-null  float64\n",
            " 4   Water_Price               14000 non-null  float64\n",
            " 5   Period_Consumption_Index  14000 non-null  float64\n",
            " 6   Income_Level              14000 non-null  object \n",
            " 7   Guests                    14000 non-null  int64  \n",
            " 8   Amenities                 14000 non-null  object \n",
            " 9   Appliance_Usage           14000 non-null  float64\n",
            " 10  Water_Consumption         14000 non-null  float64\n",
            "dtypes: float64(7), int64(1), object(3)\n",
            "memory usage: 1.2+ MB\n"
          ]
        }
      ],
      "source": [
        "df.info()"
      ]
    },
    {
      "cell_type": "code",
      "execution_count": 26,
      "metadata": {
        "colab": {
          "base_uri": "https://localhost:8080/",
          "height": 546
        },
        "id": "kAmO5WVCrpOO",
        "outputId": "c3390d73-6d50-4447-de54-e43aea2609e0"
      },
      "outputs": [
        {
          "data": {
            "text/plain": [
              "<Axes: xlabel='Income_Level'>"
            ]
          },
          "execution_count": 26,
          "metadata": {},
          "output_type": "execute_result"
        },
        {
          "data": {
            "image/png": "[encoded data removed]",
            "text/plain": [
              "<Figure size 640x480 with 1 Axes>"
            ]
          },
          "metadata": {},
          "output_type": "display_data"
        }
      ],
      "source": [
        "df.groupby('Income_Level')['Water_Consumption'].max().plot(kind='bar')"
      ]
    },
    {
      "cell_type": "code",
      "execution_count": 27,
      "metadata": {
        "colab": {
          "base_uri": "https://localhost:8080/",
          "height": 559
        },
        "id": "2RxhfsiQKamo",
        "outputId": "596e284c-318e-48ea-f0fd-033d34d01b5d"
      },
      "outputs": [
        {
          "data": {
            "text/plain": [
              "<Axes: xlabel='Amenities'>"
            ]
          },
          "execution_count": 27,
          "metadata": {},
          "output_type": "execute_result"
        },
        {
          "data": {
            "image/png": "[encoded data removed]",
            "text/plain": [
              "<Figure size 640x480 with 1 Axes>"
            ]
          },
          "metadata": {},
          "output_type": "display_data"
        }
      ],
      "source": [
        "df.groupby('Amenities')['Water_Consumption'].max().plot(kind='bar')"
      ]
    },
    {
      "cell_type": "code",
      "execution_count": 28,
      "metadata": {
        "colab": {
          "base_uri": "https://localhost:8080/",
          "height": 873
        },
        "id": "kgs-FFSzXZYe",
        "outputId": "9d6a3004-cdfd-41ba-885e-49066cae6a97"
      },
      "outputs": [
        {
          "data": {
            "text/plain": [
              "<Axes: >"
            ]
          },
          "execution_count": 28,
          "metadata": {},
          "output_type": "execute_result"
        },
        {
          "data": {
            "image/png": "[encoded data removed]",
            "text/plain": [
              "<Figure size 1200x800 with 2 Axes>"
            ]
          },
          "metadata": {},
          "output_type": "display_data"
        }
      ],
      "source": [
        "df_1 = df.drop(columns = ['Apartment_Type','Amenities','Income_Level'])\n",
        "plt.figure(figsize=(12, 8))\n",
        "sns.heatmap(df_1.corr(),annot=True, cmap=\"coolwarm\", fmt=\".2f\", linewidths=0.5)"
      ]
    },
    {
      "cell_type": "markdown",
      "metadata": {
        "id": "hGUGyO3xHqbu"
      },
      "source": [
        "# Outlier Detection"
      ]
    },
    {
      "cell_type": "code",
      "execution_count": 29,
      "metadata": {
        "colab": {
          "base_uri": "https://localhost:8080/",
          "height": 429
        },
        "id": "Ih3qJ3dmC71V",
        "outputId": "7dee9708-f23b-44a4-837b-98b60357d135"
      },
      "outputs": [
        {
          "data": {
            "text/plain": [
              "<Axes: ylabel='Humidity'>"
            ]
          },
          "execution_count": 29,
          "metadata": {},
          "output_type": "execute_result"
        },
        {
          "data": {
            "image/png": "[encoded data removed]",
            "text/plain": [
              "<Figure size 640x480 with 1 Axes>"
            ]
          },
          "metadata": {},
          "output_type": "display_data"
        }
      ],
      "source": [
        "sns.boxplot(data = df,y = 'Humidity')"
      ]
    },
    {
      "cell_type": "code",
      "execution_count": 30,
      "metadata": {
        "colab": {
          "base_uri": "https://localhost:8080/",
          "height": 429
        },
        "id": "ngqhKlmrHb08",
        "outputId": "5ad2df01-2746-45e7-8204-102650520938"
      },
      "outputs": [
        {
          "data": {
            "text/plain": [
              "<Axes: ylabel='Period_Consumption_Index'>"
            ]
          },
          "execution_count": 30,
          "metadata": {},
          "output_type": "execute_result"
        },
        {
          "data": {
            "image/png": "[encoded data removed]",
            "text/plain": [
              "<Figure size 640x480 with 1 Axes>"
            ]
          },
          "metadata": {},
          "output_type": "display_data"
        }
      ],
      "source": [
        "sns.boxplot(data = df,y = 'Period_Consumption_Index')"
      ]
    },
    {
      "cell_type": "code",
      "execution_count": 31,
      "metadata": {
        "id": "Gsv-OiW9HWVP"
      },
      "outputs": [],
      "source": [
        "def outlier_removal(df,col):\n",
        "\n",
        "  Q1 = df[col].quantile(0.25)\n",
        "  Q3 = df[col].quantile(0.75)\n",
        "\n",
        "  IQR = Q3-Q1\n",
        "\n",
        "  lower_bound = Q1 - 1.5*IQR\n",
        "  upper_bound = Q3 + 1.5*IQR\n",
        "\n",
        "  df = df[(df[col] >= lower_bound) & (df[col] <= upper_bound)]\n",
        "\n",
        "\n",
        "  return df"
      ]
    },
    {
      "cell_type": "code",
      "execution_count": 32,
      "metadata": {
        "id": "ktRkHLxYDCzb"
      },
      "outputs": [],
      "source": [
        "columns = ['Period_Consumption_Index','Humidity']\n",
        "\n",
        "for c in columns:\n",
        "\n",
        "  df = outlier_removal(df,c)"
      ]
    },
    {
      "cell_type": "markdown",
      "metadata": {
        "id": "ySaWHJ6oJRKP"
      },
      "source": [
        "# Label Encoding and Hot Encoding"
      ]
    },
    {
      "cell_type": "code",
      "execution_count": 33,
      "metadata": {
        "colab": {
          "base_uri": "https://localhost:8080/"
        },
        "id": "vWIxz1SmJPnG",
        "outputId": "31321de5-819b-48ff-f748-dc3aa5d88f5e"
      },
      "outputs": [
        {
          "name": "stdout",
          "output_type": "stream",
          "text": [
            "<class 'pandas.core.frame.DataFrame'>\n",
            "Index: 13725 entries, 0 to 13998\n",
            "Data columns (total 11 columns):\n",
            " #   Column                    Non-Null Count  Dtype  \n",
            "---  ------                    --------------  -----  \n",
            " 0   Residents                 13725 non-null  float64\n",
            " 1   Apartment_Type            13725 non-null  object \n",
            " 2   Temperature               13725 non-null  float64\n",
            " 3   Humidity                  13725 non-null  float64\n",
            " 4   Water_Price               13725 non-null  float64\n",
            " 5   Period_Consumption_Index  13725 non-null  float64\n",
            " 6   Income_Level              13725 non-null  object \n",
            " 7   Guests                    13725 non-null  int64  \n",
            " 8   Amenities                 13725 non-null  object \n",
            " 9   Appliance_Usage           13725 non-null  float64\n",
            " 10  Water_Consumption         13725 non-null  float64\n",
            "dtypes: float64(7), int64(1), object(3)\n",
            "memory usage: 1.3+ MB\n"
          ]
        }
      ],
      "source": [
        "df.info()"
      ]
    },
    {
      "cell_type": "code",
      "execution_count": 34,
      "metadata": {
        "id": "nH0v8koeJq0v"
      },
      "outputs": [],
      "source": [
        "def label_encoder(df, test, col):\n",
        "    lb = LabelEncoder()\n",
        "\n",
        "    df[col] = lb.fit_transform(df[col])\n",
        "\n",
        "    test[col] = lb.transform(test[col])\n",
        "\n",
        "    return df, test"
      ]
    },
    {
      "cell_type": "code",
      "execution_count": 35,
      "metadata": {
        "id": "hw9m4XzEL-Ja"
      },
      "outputs": [],
      "source": [
        "columns = ['Apartment_Type','Income_Level','Amenities']\n",
        "\n",
        "for col in columns:\n",
        "  df,test = label_encoder(df,test,col)"
      ]
    },
    {
      "cell_type": "code",
      "execution_count": 36,
      "metadata": {
        "colab": {
          "base_uri": "https://localhost:8080/",
          "height": 206
        },
        "id": "C-YPVBY6NXiP",
        "outputId": "36c78d4f-7d05-40c0-958e-6e132c242f9c"
      },
      "outputs": [
        {
          "data": {
            "text/html": [
              "<div>\n",
              "<style scoped>\n",
              "    .dataframe tbody tr th:only-of-type {\n",
              "        vertical-align: middle;\n",
              "    }\n",
              "\n",
              "    .dataframe tbody tr th {\n",
              "        vertical-align: top;\n",
              "    }\n",
              "\n",
              "    .dataframe thead th {\n",
              "        text-align: right;\n",
              "    }\n",
              "</style>\n",
              "<table border=\"1\" class=\"dataframe\">\n",
              "  <thead>\n",
              "    <tr style=\"text-align: right;\">\n",
              "      <th></th>\n",
              "      <th>Residents</th>\n",
              "      <th>Apartment_Type</th>\n",
              "      <th>Temperature</th>\n",
              "      <th>Humidity</th>\n",
              "      <th>Water_Price</th>\n",
              "      <th>Period_Consumption_Index</th>\n",
              "      <th>Income_Level</th>\n",
              "      <th>Guests</th>\n",
              "      <th>Amenities</th>\n",
              "      <th>Appliance_Usage</th>\n",
              "      <th>Water_Consumption</th>\n",
              "    </tr>\n",
              "  </thead>\n",
              "  <tbody>\n",
              "    <tr>\n",
              "      <th>0</th>\n",
              "      <td>1.0</td>\n",
              "      <td>6</td>\n",
              "      <td>15.31</td>\n",
              "      <td>46.61</td>\n",
              "      <td>1.06</td>\n",
              "      <td>0.97</td>\n",
              "      <td>0</td>\n",
              "      <td>0</td>\n",
              "      <td>4</td>\n",
              "      <td>0.0</td>\n",
              "      <td>64.85</td>\n",
              "    </tr>\n",
              "    <tr>\n",
              "      <th>1</th>\n",
              "      <td>4.0</td>\n",
              "      <td>1</td>\n",
              "      <td>21.01</td>\n",
              "      <td>66.11</td>\n",
              "      <td>2.98</td>\n",
              "      <td>0.91</td>\n",
              "      <td>3</td>\n",
              "      <td>1</td>\n",
              "      <td>4</td>\n",
              "      <td>1.0</td>\n",
              "      <td>192.50</td>\n",
              "    </tr>\n",
              "    <tr>\n",
              "      <th>2</th>\n",
              "      <td>2.0</td>\n",
              "      <td>4</td>\n",
              "      <td>12.86</td>\n",
              "      <td>60.86</td>\n",
              "      <td>1.44</td>\n",
              "      <td>1.43</td>\n",
              "      <td>1</td>\n",
              "      <td>0</td>\n",
              "      <td>3</td>\n",
              "      <td>1.0</td>\n",
              "      <td>116.62</td>\n",
              "    </tr>\n",
              "    <tr>\n",
              "      <th>3</th>\n",
              "      <td>2.0</td>\n",
              "      <td>0</td>\n",
              "      <td>20.16</td>\n",
              "      <td>50.58</td>\n",
              "      <td>1.48</td>\n",
              "      <td>0.91</td>\n",
              "      <td>1</td>\n",
              "      <td>0</td>\n",
              "      <td>1</td>\n",
              "      <td>0.0</td>\n",
              "      <td>76.96</td>\n",
              "    </tr>\n",
              "    <tr>\n",
              "      <th>4</th>\n",
              "      <td>2.0</td>\n",
              "      <td>4</td>\n",
              "      <td>16.23</td>\n",
              "      <td>52.25</td>\n",
              "      <td>1.14</td>\n",
              "      <td>1.11</td>\n",
              "      <td>1</td>\n",
              "      <td>0</td>\n",
              "      <td>0</td>\n",
              "      <td>0.0</td>\n",
              "      <td>104.70</td>\n",
              "    </tr>\n",
              "  </tbody>\n",
              "</table>\n",
              "</div>"
            ],
            "text/plain": [
              "   Residents  Apartment_Type  Temperature  Humidity  Water_Price  \\\n",
              "0        1.0               6        15.31     46.61         1.06   \n",
              "1        4.0               1        21.01     66.11         2.98   \n",
              "2        2.0               4        12.86     60.86         1.44   \n",
              "3        2.0               0        20.16     50.58         1.48   \n",
              "4        2.0               4        16.23     52.25         1.14   \n",
              "\n",
              "   Period_Consumption_Index  Income_Level  Guests  Amenities  Appliance_Usage  \\\n",
              "0                      0.97             0       0          4              0.0   \n",
              "1                      0.91             3       1          4              1.0   \n",
              "2                      1.43             1       0          3              1.0   \n",
              "3                      0.91             1       0          1              0.0   \n",
              "4                      1.11             1       0          0              0.0   \n",
              "\n",
              "   Water_Consumption  \n",
              "0              64.85  \n",
              "1             192.50  \n",
              "2             116.62  \n",
              "3              76.96  \n",
              "4             104.70  "
            ]
          },
          "execution_count": 36,
          "metadata": {},
          "output_type": "execute_result"
        }
      ],
      "source": [
        "df.head()"
      ]
    },
    {
      "cell_type": "markdown",
      "metadata": {
        "id": "ER1Dfjc-JFWp"
      },
      "source": [
        "# Standarisation and Normalisation"
      ]
    },
    {
      "cell_type": "code",
      "execution_count": 37,
      "metadata": {
        "id": "DThB3RB6DNAa"
      },
      "outputs": [],
      "source": [
        "\n",
        "def scale(df,test,col):\n",
        "\n",
        "  sc = MinMaxScaler()\n",
        "  df[col] = sc.fit_transform(df[[col]])\n",
        "  test[col] = sc.transform(test[[col]])\n",
        "\n",
        "  return df,test"
      ]
    },
    {
      "cell_type": "code",
      "execution_count": 38,
      "metadata": {
        "id": "ig_HBEiADNuE"
      },
      "outputs": [],
      "source": [
        "columns = df.columns.tolist()[:-1]\n",
        "for col in columns:\n",
        "\n",
        "  df,test = scale(df,test,col)"
      ]
    },
    {
      "cell_type": "code",
      "execution_count": 39,
      "metadata": {
        "colab": {
          "base_uri": "https://localhost:8080/",
          "height": 206
        },
        "id": "xKJbtU6WQyWb",
        "outputId": "a6ee76a0-c6ff-490f-fe3a-3cffff63c147"
      },
      "outputs": [
        {
          "data": {
            "text/html": [
              "<div>\n",
              "<style scoped>\n",
              "    .dataframe tbody tr th:only-of-type {\n",
              "        vertical-align: middle;\n",
              "    }\n",
              "\n",
              "    .dataframe tbody tr th {\n",
              "        vertical-align: top;\n",
              "    }\n",
              "\n",
              "    .dataframe thead th {\n",
              "        text-align: right;\n",
              "    }\n",
              "</style>\n",
              "<table border=\"1\" class=\"dataframe\">\n",
              "  <thead>\n",
              "    <tr style=\"text-align: right;\">\n",
              "      <th></th>\n",
              "      <th>Residents</th>\n",
              "      <th>Apartment_Type</th>\n",
              "      <th>Temperature</th>\n",
              "      <th>Humidity</th>\n",
              "      <th>Water_Price</th>\n",
              "      <th>Period_Consumption_Index</th>\n",
              "      <th>Income_Level</th>\n",
              "      <th>Guests</th>\n",
              "      <th>Amenities</th>\n",
              "      <th>Appliance_Usage</th>\n",
              "      <th>Water_Consumption</th>\n",
              "    </tr>\n",
              "  </thead>\n",
              "  <tbody>\n",
              "    <tr>\n",
              "      <th>0</th>\n",
              "      <td>0.00</td>\n",
              "      <td>1.000000</td>\n",
              "      <td>0.2124</td>\n",
              "      <td>0.378404</td>\n",
              "      <td>0.03</td>\n",
              "      <td>0.377104</td>\n",
              "      <td>0.000000</td>\n",
              "      <td>0.000000</td>\n",
              "      <td>1.00</td>\n",
              "      <td>0.0</td>\n",
              "      <td>64.85</td>\n",
              "    </tr>\n",
              "    <tr>\n",
              "      <th>1</th>\n",
              "      <td>0.75</td>\n",
              "      <td>0.166667</td>\n",
              "      <td>0.4404</td>\n",
              "      <td>0.744601</td>\n",
              "      <td>0.99</td>\n",
              "      <td>0.335192</td>\n",
              "      <td>1.000000</td>\n",
              "      <td>0.333333</td>\n",
              "      <td>1.00</td>\n",
              "      <td>1.0</td>\n",
              "      <td>192.50</td>\n",
              "    </tr>\n",
              "    <tr>\n",
              "      <th>2</th>\n",
              "      <td>0.25</td>\n",
              "      <td>0.666667</td>\n",
              "      <td>0.1144</td>\n",
              "      <td>0.646009</td>\n",
              "      <td>0.22</td>\n",
              "      <td>0.698430</td>\n",
              "      <td>0.333333</td>\n",
              "      <td>0.000000</td>\n",
              "      <td>0.75</td>\n",
              "      <td>1.0</td>\n",
              "      <td>116.62</td>\n",
              "    </tr>\n",
              "    <tr>\n",
              "      <th>3</th>\n",
              "      <td>0.25</td>\n",
              "      <td>0.000000</td>\n",
              "      <td>0.4064</td>\n",
              "      <td>0.452958</td>\n",
              "      <td>0.24</td>\n",
              "      <td>0.335192</td>\n",
              "      <td>0.333333</td>\n",
              "      <td>0.000000</td>\n",
              "      <td>0.25</td>\n",
              "      <td>0.0</td>\n",
              "      <td>76.96</td>\n",
              "    </tr>\n",
              "    <tr>\n",
              "      <th>4</th>\n",
              "      <td>0.25</td>\n",
              "      <td>0.666667</td>\n",
              "      <td>0.2492</td>\n",
              "      <td>0.484319</td>\n",
              "      <td>0.07</td>\n",
              "      <td>0.474899</td>\n",
              "      <td>0.333333</td>\n",
              "      <td>0.000000</td>\n",
              "      <td>0.00</td>\n",
              "      <td>0.0</td>\n",
              "      <td>104.70</td>\n",
              "    </tr>\n",
              "  </tbody>\n",
              "</table>\n",
              "</div>"
            ],
            "text/plain": [
              "   Residents  Apartment_Type  Temperature  Humidity  Water_Price  \\\n",
              "0       0.00        1.000000       0.2124  0.378404         0.03   \n",
              "1       0.75        0.166667       0.4404  0.744601         0.99   \n",
              "2       0.25        0.666667       0.1144  0.646009         0.22   \n",
              "3       0.25        0.000000       0.4064  0.452958         0.24   \n",
              "4       0.25        0.666667       0.2492  0.484319         0.07   \n",
              "\n",
              "   Period_Consumption_Index  Income_Level    Guests  Amenities  \\\n",
              "0                  0.377104      0.000000  0.000000       1.00   \n",
              "1                  0.335192      1.000000  0.333333       1.00   \n",
              "2                  0.698430      0.333333  0.000000       0.75   \n",
              "3                  0.335192      0.333333  0.000000       0.25   \n",
              "4                  0.474899      0.333333  0.000000       0.00   \n",
              "\n",
              "   Appliance_Usage  Water_Consumption  \n",
              "0              0.0              64.85  \n",
              "1              1.0             192.50  \n",
              "2              1.0             116.62  \n",
              "3              0.0              76.96  \n",
              "4              0.0             104.70  "
            ]
          },
          "execution_count": 39,
          "metadata": {},
          "output_type": "execute_result"
        }
      ],
      "source": [
        "df.head()"
      ]
    },
    {
      "cell_type": "markdown",
      "metadata": {
        "id": "x3qZl8sTPSQG"
      },
      "source": [
        "# Split The Data"
      ]
    },
    {
      "cell_type": "code",
      "execution_count": 40,
      "metadata": {
        "id": "HD67KNEoPRBc"
      },
      "outputs": [],
      "source": [
        "x = df.drop(columns = ['Water_Consumption'],axis = 0)\n",
        "y = df['Water_Consumption']"
      ]
    },
    {
      "cell_type": "code",
      "execution_count": 42,
      "metadata": {
        "id": "euGFrAmSPQ7N"
      },
      "outputs": [],
      "source": [
        "from sklearn.model_selection import train_test_split\n",
        "X_train, X_test, y_train, y_test = train_test_split(x, y, test_size=0.2, random_state=42)"
      ]
    },
    {
      "cell_type": "markdown",
      "metadata": {
        "id": "WUfKrql6Toe4"
      },
      "source": [
        "# Model Building"
      ]
    },
    {
      "cell_type": "code",
      "execution_count": 43,
      "metadata": {
        "id": "Oqq9oly2Oxl3"
      },
      "outputs": [],
      "source": [
        "model = keras.Sequential([\n",
        "    keras.layers.Dense(64, activation='relu', input_shape=(X_train.shape[1],)),\n",
        "    keras.layers.Dense(32, activation='relu'),\n",
        "    keras.layers.Dense(16, activation='relu'),\n",
        "    keras.layers.Dense(1)  # Output layer for regression\n",
        "])"
      ]
    },
    {
      "cell_type": "code",
      "execution_count": null,
      "metadata": {
        "colab": {
          "base_uri": "https://localhost:8080/"
        },
        "id": "DfU84vU4T_L-",
        "outputId": "e4e52231-68f3-44fa-8a19-7706a722287c"
      },
      "outputs": [
        {
          "name": "stdout",
          "output_type": "stream",
          "text": [
            "Epoch 1/50\n",
            "\u001b[1m687/687\u001b[0m \u001b[32m━━━━━━━━━━━━━━━━━━━━\u001b[0m\u001b[37m\u001b[0m \u001b[1m2s\u001b[0m 2ms/step - loss: 15988.5176 - mae: 97.3092 - val_loss: 1753.2399 - val_mae: 32.3086\n",
            "Epoch 2/50\n",
            "\u001b[1m687/687\u001b[0m \u001b[32m━━━━━━━━━━━━━━━━━━━━\u001b[0m\u001b[37m\u001b[0m \u001b[1m1s\u001b[0m 2ms/step - loss: 1559.9048 - mae: 28.7710 - val_loss: 1291.5393 - val_mae: 25.5436\n",
            "Epoch 3/50\n",
            "\u001b[1m687/687\u001b[0m \u001b[32m━━━━━━━━━━━━━━━━━━━━\u001b[0m\u001b[37m\u001b[0m \u001b[1m2s\u001b[0m 2ms/step - loss: 1240.3289 - mae: 25.5158 - val_loss: 1205.4642 - val_mae: 24.7705\n",
            "Epoch 4/50\n",
            "\u001b[1m687/687\u001b[0m \u001b[32m━━━━━━━━━━━━━━━━━━━━\u001b[0m\u001b[37m\u001b[0m \u001b[1m1s\u001b[0m 2ms/step - loss: 1171.9458 - mae: 24.8239 - val_loss: 1123.5039 - val_mae: 24.1158\n",
            "Epoch 5/50\n",
            "\u001b[1m687/687\u001b[0m \u001b[32m━━━━━━━━━━━━━━━━━━━━\u001b[0m\u001b[37m\u001b[0m \u001b[1m1s\u001b[0m 2ms/step - loss: 1077.6698 - mae: 23.5982 - val_loss: 1081.9235 - val_mae: 23.5407\n",
            "Epoch 6/50\n",
            "\u001b[1m687/687\u001b[0m \u001b[32m━━━━━━━━━━━━━━━━━━━━\u001b[0m\u001b[37m\u001b[0m \u001b[1m1s\u001b[0m 2ms/step - loss: 1006.4214 - mae: 22.8006 - val_loss: 1045.3165 - val_mae: 23.2259\n",
            "Epoch 7/50\n",
            "\u001b[1m687/687\u001b[0m \u001b[32m━━━━━━━━━━━━━━━━━━━━\u001b[0m\u001b[37m\u001b[0m \u001b[1m1s\u001b[0m 1ms/step - loss: 956.5771 - mae: 22.5017 - val_loss: 995.6452 - val_mae: 22.8026\n",
            "Epoch 8/50\n",
            "\u001b[1m687/687\u001b[0m \u001b[32m━━━━━━━━━━━━━━━━━━━━\u001b[0m\u001b[37m\u001b[0m \u001b[1m1s\u001b[0m 2ms/step - loss: 999.8989 - mae: 22.5627 - val_loss: 970.4283 - val_mae: 22.4611\n",
            "Epoch 9/50\n",
            "\u001b[1m687/687\u001b[0m \u001b[32m━━━━━━━━━━━━━━━━━━━━\u001b[0m\u001b[37m\u001b[0m \u001b[1m1s\u001b[0m 2ms/step - loss: 929.3809 - mae: 21.9952 - val_loss: 932.1765 - val_mae: 21.8104\n",
            "Epoch 10/50\n",
            "\u001b[1m687/687\u001b[0m \u001b[32m━━━━━━━━━━━━━━━━━━━━\u001b[0m\u001b[37m\u001b[0m \u001b[1m1s\u001b[0m 2ms/step - loss: 895.0740 - mae: 21.3348 - val_loss: 908.8251 - val_mae: 21.9326\n",
            "Epoch 11/50\n",
            "\u001b[1m687/687\u001b[0m \u001b[32m━━━━━━━━━━━━━━━━━━━━\u001b[0m\u001b[37m\u001b[0m \u001b[1m1s\u001b[0m 1ms/step - loss: 899.2388 - mae: 21.2552 - val_loss: 921.7102 - val_mae: 22.2506\n",
            "Epoch 12/50\n",
            "\u001b[1m687/687\u001b[0m \u001b[32m━━━━━━━━━━━━━━━━━━━━\u001b[0m\u001b[37m\u001b[0m \u001b[1m2s\u001b[0m 2ms/step - loss: 811.0540 - mae: 20.1333 - val_loss: 831.0522 - val_mae: 20.2962\n",
            "Epoch 13/50\n",
            "\u001b[1m687/687\u001b[0m \u001b[32m━━━━━━━━━━━━━━━━━━━━\u001b[0m\u001b[37m\u001b[0m \u001b[1m2s\u001b[0m 2ms/step - loss: 783.2144 - mae: 19.7872 - val_loss: 798.6208 - val_mae: 19.7222\n",
            "Epoch 14/50\n",
            "\u001b[1m687/687\u001b[0m \u001b[32m━━━━━━━━━━━━━━━━━━━━\u001b[0m\u001b[37m\u001b[0m \u001b[1m1s\u001b[0m 2ms/step - loss: 744.5233 - mae: 19.5112 - val_loss: 766.7308 - val_mae: 19.1612\n",
            "Epoch 15/50\n",
            "\u001b[1m687/687\u001b[0m \u001b[32m━━━━━━━━━━━━━━━━━━━━\u001b[0m\u001b[37m\u001b[0m \u001b[1m1s\u001b[0m 1ms/step - loss: 709.6832 - mae: 18.6171 - val_loss: 737.7772 - val_mae: 18.8205\n",
            "Epoch 16/50\n",
            "\u001b[1m687/687\u001b[0m \u001b[32m━━━━━━━━━━━━━━━━━━━━\u001b[0m\u001b[37m\u001b[0m \u001b[1m1s\u001b[0m 1ms/step - loss: 695.8340 - mae: 18.3430 - val_loss: 742.0996 - val_mae: 18.2855\n",
            "Epoch 17/50\n",
            "\u001b[1m687/687\u001b[0m \u001b[32m━━━━━━━━━━━━━━━━━━━━\u001b[0m\u001b[37m\u001b[0m \u001b[1m1s\u001b[0m 2ms/step - loss: 662.9426 - mae: 17.5872 - val_loss: 684.7160 - val_mae: 17.4556\n",
            "Epoch 18/50\n",
            "\u001b[1m687/687\u001b[0m \u001b[32m━━━━━━━━━━━━━━━━━━━━\u001b[0m\u001b[37m\u001b[0m \u001b[1m1s\u001b[0m 1ms/step - loss: 619.2166 - mae: 16.9639 - val_loss: 668.1619 - val_mae: 17.0758\n",
            "Epoch 19/50\n",
            "\u001b[1m687/687\u001b[0m \u001b[32m━━━━━━━━━━━━━━━━━━━━\u001b[0m\u001b[37m\u001b[0m \u001b[1m1s\u001b[0m 1ms/step - loss: 573.2489 - mae: 16.3793 - val_loss: 699.1473 - val_mae: 18.3469\n",
            "Epoch 20/50\n",
            "\u001b[1m687/687\u001b[0m \u001b[32m━━━━━━━━━━━━━━━━━━━━\u001b[0m\u001b[37m\u001b[0m \u001b[1m2s\u001b[0m 2ms/step - loss: 565.4393 - mae: 16.1511 - val_loss: 617.2019 - val_mae: 16.9144\n",
            "Epoch 21/50\n",
            "\u001b[1m687/687\u001b[0m \u001b[32m━━━━━━━━━━━━━━━━━━━━\u001b[0m\u001b[37m\u001b[0m \u001b[1m2s\u001b[0m 2ms/step - loss: 548.0204 - mae: 15.9014 - val_loss: 594.0208 - val_mae: 16.0920\n",
            "Epoch 22/50\n",
            "\u001b[1m687/687\u001b[0m \u001b[32m━━━━━━━━━━━━━━━━━━━━\u001b[0m\u001b[37m\u001b[0m \u001b[1m1s\u001b[0m 2ms/step - loss: 539.3383 - mae: 15.5945 - val_loss: 593.1304 - val_mae: 16.0485\n",
            "Epoch 23/50\n",
            "\u001b[1m687/687\u001b[0m \u001b[32m━━━━━━━━━━━━━━━━━━━━\u001b[0m\u001b[37m\u001b[0m \u001b[1m1s\u001b[0m 1ms/step - loss: 526.3361 - mae: 15.4067 - val_loss: 580.5225 - val_mae: 15.3808\n",
            "Epoch 24/50\n",
            "\u001b[1m687/687\u001b[0m \u001b[32m━━━━━━━━━━━━━━━━━━━━\u001b[0m\u001b[37m\u001b[0m \u001b[1m1s\u001b[0m 2ms/step - loss: 505.7966 - mae: 15.0922 - val_loss: 564.8186 - val_mae: 15.2275\n",
            "Epoch 25/50\n",
            "\u001b[1m687/687\u001b[0m \u001b[32m━━━━━━━━━━━━━━━━━━━━\u001b[0m\u001b[37m\u001b[0m \u001b[1m1s\u001b[0m 2ms/step - loss: 504.3146 - mae: 14.8216 - val_loss: 560.2853 - val_mae: 15.0533\n",
            "Epoch 26/50\n",
            "\u001b[1m687/687\u001b[0m \u001b[32m━━━━━━━━━━━━━━━━━━━━\u001b[0m\u001b[37m\u001b[0m \u001b[1m1s\u001b[0m 2ms/step - loss: 513.3239 - mae: 14.8147 - val_loss: 565.8035 - val_mae: 14.8412\n",
            "Epoch 27/50\n",
            "\u001b[1m687/687\u001b[0m \u001b[32m━━━━━━━━━━━━━━━━━━━━\u001b[0m\u001b[37m\u001b[0m \u001b[1m1s\u001b[0m 1ms/step - loss: 481.9159 - mae: 14.3867 - val_loss: 554.0377 - val_mae: 15.2578\n",
            "Epoch 28/50\n",
            "\u001b[1m687/687\u001b[0m \u001b[32m━━━━━━━━━━━━━━━━━━━━\u001b[0m\u001b[37m\u001b[0m \u001b[1m1s\u001b[0m 2ms/step - loss: 472.5572 - mae: 14.3418 - val_loss: 565.6245 - val_mae: 15.4215\n",
            "Epoch 29/50\n",
            "\u001b[1m687/687\u001b[0m \u001b[32m━━━━━━━━━━━━━━━━━━━━\u001b[0m\u001b[37m\u001b[0m \u001b[1m1s\u001b[0m 2ms/step - loss: 463.6788 - mae: 14.0223 - val_loss: 556.5140 - val_mae: 14.9760\n",
            "Epoch 30/50\n",
            "\u001b[1m687/687\u001b[0m \u001b[32m━━━━━━━━━━━━━━━━━━━━\u001b[0m\u001b[37m\u001b[0m \u001b[1m2s\u001b[0m 1ms/step - loss: 447.9264 - mae: 13.7924 - val_loss: 545.3690 - val_mae: 14.5496\n",
            "Epoch 31/50\n",
            "\u001b[1m687/687\u001b[0m \u001b[32m━━━━━━━━━━━━━━━━━━━━\u001b[0m\u001b[37m\u001b[0m \u001b[1m1s\u001b[0m 2ms/step - loss: 468.0977 - mae: 13.8596 - val_loss: 541.7226 - val_mae: 14.6314\n",
            "Epoch 32/50\n",
            "\u001b[1m687/687\u001b[0m \u001b[32m━━━━━━━━━━━━━━━━━━━━\u001b[0m\u001b[37m\u001b[0m \u001b[1m1s\u001b[0m 1ms/step - loss: 464.5434 - mae: 13.9520 - val_loss: 551.4578 - val_mae: 14.1488\n",
            "Epoch 33/50\n",
            "\u001b[1m687/687\u001b[0m \u001b[32m━━━━━━━━━━━━━━━━━━━━\u001b[0m\u001b[37m\u001b[0m \u001b[1m1s\u001b[0m 1ms/step - loss: 453.5691 - mae: 13.6988 - val_loss: 533.9543 - val_mae: 14.4070\n",
            "Epoch 34/50\n",
            "\u001b[1m687/687\u001b[0m \u001b[32m━━━━━━━━━━━━━━━━━━━━\u001b[0m\u001b[37m\u001b[0m \u001b[1m1s\u001b[0m 1ms/step - loss: 442.8566 - mae: 13.5797 - val_loss: 525.9205 - val_mae: 14.0376\n",
            "Epoch 35/50\n",
            "\u001b[1m687/687\u001b[0m \u001b[32m━━━━━━━━━━━━━━━━━━━━\u001b[0m\u001b[37m\u001b[0m \u001b[1m1s\u001b[0m 2ms/step - loss: 432.2152 - mae: 13.4345 - val_loss: 575.0714 - val_mae: 15.8839\n",
            "Epoch 36/50\n",
            "\u001b[1m687/687\u001b[0m \u001b[32m━━━━━━━━━━━━━━━━━━━━\u001b[0m\u001b[37m\u001b[0m \u001b[1m2s\u001b[0m 3ms/step - loss: 427.0296 - mae: 13.4217 - val_loss: 542.7182 - val_mae: 14.7822\n",
            "Epoch 37/50\n",
            "\u001b[1m687/687\u001b[0m \u001b[32m━━━━━━━━━━━━━━━━━━━━\u001b[0m\u001b[37m\u001b[0m \u001b[1m2s\u001b[0m 2ms/step - loss: 481.1748 - mae: 13.9060 - val_loss: 525.8212 - val_mae: 13.7895\n",
            "Epoch 38/50\n",
            "\u001b[1m687/687\u001b[0m \u001b[32m━━━━━━━━━━━━━━━━━━━━\u001b[0m\u001b[37m\u001b[0m \u001b[1m1s\u001b[0m 2ms/step - loss: 433.1918 - mae: 13.3775 - val_loss: 617.1580 - val_mae: 15.4163\n",
            "Epoch 39/50\n",
            "\u001b[1m687/687\u001b[0m \u001b[32m━━━━━━━━━━━━━━━━━━━━\u001b[0m\u001b[37m\u001b[0m \u001b[1m2s\u001b[0m 2ms/step - loss: 446.1944 - mae: 13.6727 - val_loss: 523.2789 - val_mae: 13.8215\n",
            "Epoch 40/50\n",
            "\u001b[1m687/687\u001b[0m \u001b[32m━━━━━━━━━━━━━━━━━━━━\u001b[0m\u001b[37m\u001b[0m \u001b[1m2s\u001b[0m 2ms/step - loss: 425.1895 - mae: 13.2004 - val_loss: 530.5836 - val_mae: 14.6263\n",
            "Epoch 41/50\n",
            "\u001b[1m687/687\u001b[0m \u001b[32m━━━━━━━━━━━━━━━━━━━━\u001b[0m\u001b[37m\u001b[0m \u001b[1m1s\u001b[0m 2ms/step - loss: 450.0064 - mae: 13.4859 - val_loss: 522.7396 - val_mae: 14.1324\n",
            "Epoch 42/50\n",
            "\u001b[1m687/687\u001b[0m \u001b[32m━━━━━━━━━━━━━━━━━━━━\u001b[0m\u001b[37m\u001b[0m \u001b[1m1s\u001b[0m 2ms/step - loss: 436.4443 - mae: 13.4946 - val_loss: 514.7117 - val_mae: 13.6971\n",
            "Epoch 43/50\n",
            "\u001b[1m687/687\u001b[0m \u001b[32m━━━━━━━━━━━━━━━━━━━━\u001b[0m\u001b[37m\u001b[0m \u001b[1m1s\u001b[0m 1ms/step - loss: 460.0059 - mae: 13.5175 - val_loss: 528.5438 - val_mae: 13.6168\n",
            "Epoch 44/50\n",
            "\u001b[1m687/687\u001b[0m \u001b[32m━━━━━━━━━━━━━━━━━━━━\u001b[0m\u001b[37m\u001b[0m \u001b[1m2s\u001b[0m 2ms/step - loss: 431.0156 - mae: 13.2168 - val_loss: 529.9314 - val_mae: 13.6241\n",
            "Epoch 45/50\n",
            "\u001b[1m687/687\u001b[0m \u001b[32m━━━━━━━━━━━━━━━━━━━━\u001b[0m\u001b[37m\u001b[0m \u001b[1m2s\u001b[0m 1ms/step - loss: 449.0699 - mae: 13.2846 - val_loss: 517.7847 - val_mae: 13.5063\n",
            "Epoch 46/50\n",
            "\u001b[1m687/687\u001b[0m \u001b[32m━━━━━━━━━━━━━━━━━━━━\u001b[0m\u001b[37m\u001b[0m \u001b[1m1s\u001b[0m 2ms/step - loss: 440.9891 - mae: 13.1836 - val_loss: 527.3195 - val_mae: 13.6318\n",
            "Epoch 47/50\n",
            "\u001b[1m687/687\u001b[0m \u001b[32m━━━━━━━━━━━━━━━━━━━━\u001b[0m\u001b[37m\u001b[0m \u001b[1m1s\u001b[0m 1ms/step - loss: 432.5570 - mae: 13.2762 - val_loss: 538.2598 - val_mae: 13.7574\n",
            "Epoch 48/50\n",
            "\u001b[1m687/687\u001b[0m \u001b[32m━━━━━━━━━━━━━━━━━━━━\u001b[0m\u001b[37m\u001b[0m \u001b[1m1s\u001b[0m 1ms/step - loss: 460.7670 - mae: 13.4578 - val_loss: 524.3542 - val_mae: 13.8639\n",
            "Epoch 49/50\n",
            "\u001b[1m687/687\u001b[0m \u001b[32m━━━━━━━━━━━━━━━━━━━━\u001b[0m\u001b[37m\u001b[0m \u001b[1m1s\u001b[0m 2ms/step - loss: 414.2454 - mae: 12.9824 - val_loss: 514.1066 - val_mae: 13.6661\n",
            "Epoch 50/50\n",
            "\u001b[1m687/687\u001b[0m \u001b[32m━━━━━━━━━━━━━━━━━━━━\u001b[0m\u001b[37m\u001b[0m \u001b[1m1s\u001b[0m 2ms/step - loss: 434.6592 - mae: 13.0398 - val_loss: 521.3121 - val_mae: 13.4354\n",
            "\u001b[1m86/86\u001b[0m \u001b[32m━━━━━━━━━━━━━━━━━━━━\u001b[0m\u001b[37m\u001b[0m \u001b[1m0s\u001b[0m 1ms/step - loss: 474.0948 - mae: 13.1723\n",
            "Test MAE: 13.4354\n",
            "\u001b[1m86/86\u001b[0m \u001b[32m━━━━━━━━━━━━━━━━━━━━\u001b[0m\u001b[37m\u001b[0m \u001b[1m0s\u001b[0m 1ms/step  \n"
          ]
        }
      ],
      "source": [
        "model.compile(optimizer='adam', loss='mse', metrics=['mae'])\n",
        "\n",
        "history = model.fit(X_train, y_train, epochs=50, batch_size=16, validation_data=(X_test, y_test))\n",
        "\n",
        "loss, mae = model.evaluate(X_test, y_test)\n",
        "print(f\"Test MAE: {mae:.4f}\")\n",
        "predictions = model.predict(X_test)"
      ]
    },
    {
      "cell_type": "code",
      "execution_count": 44,
      "metadata": {
        "colab": {
          "base_uri": "https://localhost:8080/"
        },
        "id": "6q9yIlRTUGsS",
        "outputId": "0b0d9861-3f43-45c1-d4ad-e19470dc4978"
      },
      "outputs": [
        {
          "name": "stdout",
          "output_type": "stream",
          "text": [
            "\u001b[1m86/86\u001b[0m \u001b[32m━━━━━━━━━━━━━━━━━━━━\u001b[0m\u001b[37m\u001b[0m \u001b[1m0s\u001b[0m 2ms/step\n",
            "Mean Absolute Error (MAE): 163.1639\n",
            "Mean Squared Error (MSE): 31762.1206\n",
            "Root Mean Squared Error (RMSE): 178.2193\n",
            "R² Score: -5.1603\n"
          ]
        }
      ],
      "source": [
        "y_pred = model.predict(X_test)\n",
        "\n",
        "# Compute error metrics\n",
        "mae = mean_absolute_error(y_test, y_pred)\n",
        "mse = mean_squared_error(y_test, y_pred)\n",
        "rmse = np.sqrt(mse)\n",
        "r2 = r2_score(y_test, y_pred)\n",
        "\n",
        "# Print results\n",
        "print(f\"Mean Absolute Error (MAE): {mae:.4f}\")\n",
        "print(f\"Mean Squared Error (MSE): {mse:.4f}\")\n",
        "print(f\"Root Mean Squared Error (RMSE): {rmse:.4f}\")\n",
        "print(f\"R² Score: {r2:.4f}\")  # Closer to 1 means better fit\n"
      ]
    },
    {
      "cell_type": "code",
      "execution_count": 45,
      "metadata": {
        "colab": {
          "base_uri": "https://localhost:8080/",
          "height": 206
        },
        "id": "puTmyWytYs4I",
        "outputId": "00c36421-ba4e-4b8a-a9fb-1cd423196fcf"
      },
      "outputs": [
        {
          "data": {
            "text/html": [
              "<div>\n",
              "<style scoped>\n",
              "    .dataframe tbody tr th:only-of-type {\n",
              "        vertical-align: middle;\n",
              "    }\n",
              "\n",
              "    .dataframe tbody tr th {\n",
              "        vertical-align: top;\n",
              "    }\n",
              "\n",
              "    .dataframe thead th {\n",
              "        text-align: right;\n",
              "    }\n",
              "</style>\n",
              "<table border=\"1\" class=\"dataframe\">\n",
              "  <thead>\n",
              "    <tr style=\"text-align: right;\">\n",
              "      <th></th>\n",
              "      <th>Timestamp</th>\n",
              "      <th>Residents</th>\n",
              "      <th>Apartment_Type</th>\n",
              "      <th>Temperature</th>\n",
              "      <th>Humidity</th>\n",
              "      <th>Water_Price</th>\n",
              "      <th>Period_Consumption_Index</th>\n",
              "      <th>Income_Level</th>\n",
              "      <th>Guests</th>\n",
              "      <th>Amenities</th>\n",
              "      <th>Appliance_Usage</th>\n",
              "    </tr>\n",
              "  </thead>\n",
              "  <tbody>\n",
              "    <tr>\n",
              "      <th>0</th>\n",
              "      <td>11/10/2014 16</td>\n",
              "      <td>1.00</td>\n",
              "      <td>0.500000</td>\n",
              "      <td>0.0756</td>\n",
              "      <td>0.590047</td>\n",
              "      <td>0.885</td>\n",
              "      <td>0.733357</td>\n",
              "      <td>1.000000</td>\n",
              "      <td>0.333333</td>\n",
              "      <td>0.50</td>\n",
              "      <td>0.000000</td>\n",
              "    </tr>\n",
              "    <tr>\n",
              "      <th>1</th>\n",
              "      <td>12/10/2014 00</td>\n",
              "      <td>0.75</td>\n",
              "      <td>0.500000</td>\n",
              "      <td>0.7688</td>\n",
              "      <td>0.656338</td>\n",
              "      <td>0.925</td>\n",
              "      <td>0.607621</td>\n",
              "      <td>1.000000</td>\n",
              "      <td>0.000000</td>\n",
              "      <td>0.25</td>\n",
              "      <td>0.198695</td>\n",
              "    </tr>\n",
              "    <tr>\n",
              "      <th>2</th>\n",
              "      <td>12/10/2014 08</td>\n",
              "      <td>0.50</td>\n",
              "      <td>0.666667</td>\n",
              "      <td>0.0108</td>\n",
              "      <td>0.721878</td>\n",
              "      <td>0.330</td>\n",
              "      <td>0.377104</td>\n",
              "      <td>0.333333</td>\n",
              "      <td>0.000000</td>\n",
              "      <td>0.75</td>\n",
              "      <td>0.000000</td>\n",
              "    </tr>\n",
              "    <tr>\n",
              "      <th>3</th>\n",
              "      <td>12/10/2014 16</td>\n",
              "      <td>0.50</td>\n",
              "      <td>0.000000</td>\n",
              "      <td>0.6812</td>\n",
              "      <td>0.492207</td>\n",
              "      <td>0.240</td>\n",
              "      <td>0.614606</td>\n",
              "      <td>0.000000</td>\n",
              "      <td>0.000000</td>\n",
              "      <td>0.75</td>\n",
              "      <td>0.000000</td>\n",
              "    </tr>\n",
              "    <tr>\n",
              "      <th>4</th>\n",
              "      <td>13/10/2014 00</td>\n",
              "      <td>0.25</td>\n",
              "      <td>0.666667</td>\n",
              "      <td>0.0928</td>\n",
              "      <td>0.540282</td>\n",
              "      <td>0.095</td>\n",
              "      <td>0.607621</td>\n",
              "      <td>0.333333</td>\n",
              "      <td>0.000000</td>\n",
              "      <td>1.00</td>\n",
              "      <td>0.000000</td>\n",
              "    </tr>\n",
              "  </tbody>\n",
              "</table>\n",
              "</div>"
            ],
            "text/plain": [
              "       Timestamp  Residents  Apartment_Type  Temperature  Humidity  \\\n",
              "0  11/10/2014 16       1.00        0.500000       0.0756  0.590047   \n",
              "1  12/10/2014 00       0.75        0.500000       0.7688  0.656338   \n",
              "2  12/10/2014 08       0.50        0.666667       0.0108  0.721878   \n",
              "3  12/10/2014 16       0.50        0.000000       0.6812  0.492207   \n",
              "4  13/10/2014 00       0.25        0.666667       0.0928  0.540282   \n",
              "\n",
              "   Water_Price  Period_Consumption_Index  Income_Level    Guests  Amenities  \\\n",
              "0        0.885                  0.733357      1.000000  0.333333       0.50   \n",
              "1        0.925                  0.607621      1.000000  0.000000       0.25   \n",
              "2        0.330                  0.377104      0.333333  0.000000       0.75   \n",
              "3        0.240                  0.614606      0.000000  0.000000       0.75   \n",
              "4        0.095                  0.607621      0.333333  0.000000       1.00   \n",
              "\n",
              "   Appliance_Usage  \n",
              "0         0.000000  \n",
              "1         0.198695  \n",
              "2         0.000000  \n",
              "3         0.000000  \n",
              "4         0.000000  "
            ]
          },
          "execution_count": 45,
          "metadata": {},
          "output_type": "execute_result"
        }
      ],
      "source": [
        "test.head()"
      ]
    },
    {
      "cell_type": "markdown",
      "metadata": {
        "id": "fsNKDQUgZIhX"
      },
      "source": [
        "# Predict the Test Case"
      ]
    },
    {
      "cell_type": "code",
      "execution_count": 46,
      "metadata": {
        "id": "AHgfgiv6YczS"
      },
      "outputs": [],
      "source": [
        "time_stamp = test['Timestamp']\n",
        "test = test.drop(columns = ['Timestamp'],axis = 0)"
      ]
    },
    {
      "cell_type": "code",
      "execution_count": 47,
      "metadata": {
        "colab": {
          "base_uri": "https://localhost:8080/"
        },
        "id": "BRRCt-5wYwW9",
        "outputId": "2c6a962d-a9c2-49bf-bcee-3aff4a98c3a5"
      },
      "outputs": [
        {
          "name": "stdout",
          "output_type": "stream",
          "text": [
            "\u001b[1m188/188\u001b[0m \u001b[32m━━━━━━━━━━━━━━━━━━━━\u001b[0m\u001b[37m\u001b[0m \u001b[1m0s\u001b[0m 1ms/step\n"
          ]
        }
      ],
      "source": [
        "df_1 = pd.DataFrame(model.predict(test))"
      ]
    },
    {
      "cell_type": "code",
      "execution_count": 48,
      "metadata": {
        "id": "XfbB42XcZDXy"
      },
      "outputs": [],
      "source": [
        "df_combined = pd.concat([time_stamp,df_1], axis=1)"
      ]
    },
    {
      "cell_type": "code",
      "execution_count": 49,
      "metadata": {
        "id": "Y9bExtEAY7xa"
      },
      "outputs": [],
      "source": [
        "df_combined.rename(columns={0 : 'Water_Consumption'}, inplace=True)"
      ]
    },
    {
      "cell_type": "code",
      "execution_count": 50,
      "metadata": {
        "colab": {
          "base_uri": "https://localhost:8080/",
          "height": 423
        },
        "id": "LRSU5OG-b3n8",
        "outputId": "fdcbd4e1-60e9-415f-df73-0131c37ecb89"
      },
      "outputs": [
        {
          "data": {
            "text/html": [
              "<div>\n",
              "<style scoped>\n",
              "    .dataframe tbody tr th:only-of-type {\n",
              "        vertical-align: middle;\n",
              "    }\n",
              "\n",
              "    .dataframe tbody tr th {\n",
              "        vertical-align: top;\n",
              "    }\n",
              "\n",
              "    .dataframe thead th {\n",
              "        text-align: right;\n",
              "    }\n",
              "</style>\n",
              "<table border=\"1\" class=\"dataframe\">\n",
              "  <thead>\n",
              "    <tr style=\"text-align: right;\">\n",
              "      <th></th>\n",
              "      <th>Timestamp</th>\n",
              "      <th>Water_Consumption</th>\n",
              "    </tr>\n",
              "  </thead>\n",
              "  <tbody>\n",
              "    <tr>\n",
              "      <th>0</th>\n",
              "      <td>11/10/2014 16</td>\n",
              "      <td>0.601552</td>\n",
              "    </tr>\n",
              "    <tr>\n",
              "      <th>1</th>\n",
              "      <td>12/10/2014 00</td>\n",
              "      <td>0.741527</td>\n",
              "    </tr>\n",
              "    <tr>\n",
              "      <th>2</th>\n",
              "      <td>12/10/2014 08</td>\n",
              "      <td>0.317340</td>\n",
              "    </tr>\n",
              "    <tr>\n",
              "      <th>3</th>\n",
              "      <td>12/10/2014 16</td>\n",
              "      <td>0.536439</td>\n",
              "    </tr>\n",
              "    <tr>\n",
              "      <th>4</th>\n",
              "      <td>13/10/2014 00</td>\n",
              "      <td>0.281734</td>\n",
              "    </tr>\n",
              "    <tr>\n",
              "      <th>...</th>\n",
              "      <td>...</td>\n",
              "      <td>...</td>\n",
              "    </tr>\n",
              "    <tr>\n",
              "      <th>5995</th>\n",
              "      <td>01/04/2020 00</td>\n",
              "      <td>0.349791</td>\n",
              "    </tr>\n",
              "    <tr>\n",
              "      <th>5996</th>\n",
              "      <td>01/04/2020 08</td>\n",
              "      <td>0.308444</td>\n",
              "    </tr>\n",
              "    <tr>\n",
              "      <th>5997</th>\n",
              "      <td>01/04/2020 16</td>\n",
              "      <td>0.530352</td>\n",
              "    </tr>\n",
              "    <tr>\n",
              "      <th>5998</th>\n",
              "      <td>02/04/2020 00</td>\n",
              "      <td>0.532166</td>\n",
              "    </tr>\n",
              "    <tr>\n",
              "      <th>5999</th>\n",
              "      <td>02/04/2020 08</td>\n",
              "      <td>0.323866</td>\n",
              "    </tr>\n",
              "  </tbody>\n",
              "</table>\n",
              "<p>6000 rows × 2 columns</p>\n",
              "</div>"
            ],
            "text/plain": [
              "          Timestamp  Water_Consumption\n",
              "0     11/10/2014 16           0.601552\n",
              "1     12/10/2014 00           0.741527\n",
              "2     12/10/2014 08           0.317340\n",
              "3     12/10/2014 16           0.536439\n",
              "4     13/10/2014 00           0.281734\n",
              "...             ...                ...\n",
              "5995  01/04/2020 00           0.349791\n",
              "5996  01/04/2020 08           0.308444\n",
              "5997  01/04/2020 16           0.530352\n",
              "5998  02/04/2020 00           0.532166\n",
              "5999  02/04/2020 08           0.323866\n",
              "\n",
              "[6000 rows x 2 columns]"
            ]
          },
          "execution_count": 50,
          "metadata": {},
          "output_type": "execute_result"
        }
      ],
      "source": [
        "df_combined"
      ]
    },
    {
      "cell_type": "code",
      "execution_count": 52,
      "metadata": {},
      "outputs": [],
      "source": [
        "import pickle\n",
        "\n",
        "pickle.dump(model, open('model.pkl', 'wb'))"
      ]
    },
    {
      "cell_type": "code",
      "execution_count": null,
      "metadata": {},
      "outputs": [],
      "source": []
    }
  ],
  "metadata": {
    "colab": {
      "provenance": []
    },
    "kernelspec": {
      "display_name": "base",
      "language": "python",
      "name": "python3"
    },
    "language_info": {
      "codemirror_mode": {
        "name": "ipython",
        "version": 3
      },
      "file_extension": ".py",
      "mimetype": "text/x-python",
      "name": "python",
      "nbconvert_exporter": "python",
      "pygments_lexer": "ipython3",
      "version": "3.12.7"
    }
  },
  "nbformat": 4,
  "nbformat_minor": 0
}
